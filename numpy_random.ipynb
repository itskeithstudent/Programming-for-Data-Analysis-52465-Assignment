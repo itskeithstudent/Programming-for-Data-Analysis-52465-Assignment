{
 "cells": [
  {
   "cell_type": "markdown",
   "metadata": {},
   "source": [
    "# <b>Programming For Data Analysis Assignment</b>\n",
    "***\n",
    "# numpy.random package explored\n",
    "This notebook is for the 2020 Programming for Data Analysis assignment.\n",
    "\n",
    "Author: Keith Ryan (g00387816@gmit.ie)\n"
   ]
  },
  {
   "cell_type": "code",
   "execution_count": 1,
   "metadata": {},
   "outputs": [],
   "source": [
    "#Setup import's for subsequent notebook cell's, this defines all packages used directly in this notebook\n",
    "import numpy as np\n",
    "import matplotlib.pyplot as plt #used for simple matplotlib visuals\n",
    "import seaborn as sns #used for fancier visuals like seaborns distplot which overlays a kde over a histogram"
   ]
  },
  {
   "cell_type": "markdown",
   "metadata": {},
   "source": [
    "# 1. Explaining the Overall Purpose of the numpy.random package\n",
    "***\n",
    "### Overview\n",
    "The <b>numpy.random</b> package allows us to generate pseudo random numbers in Python in a number of different ways, which in turn allows the package to be used for a variety of different functions at its most basic it can give simple random data for adding randomness to some script (like pick a random number from 1 to 10 or set of numbers) or picking a random item from a list, to more complex randomised data for scientific usage like generating a sequence of numbers to represent a type of distibution or picking random samples from a dataset to test and validate a model with.\n",
    "\n",
    "Numpy as a package in general deals primarily with it's own <i>array</i> data structure (it shares many similarities with Python's native list data structure) and numpy.random generally returns its results as arrays and often expects arrays as one of its inputs, given how arrays work in numpy this means we can return random data in different ways so can get multidimensional or flat arrays.\n",
    "\n",
    "<code>\n",
    "1-Dimensional Array - [1 2 3]\n",
    "2-Dimensional Array - [[1 2 3] \n",
    "                       [4 5 6]]\n",
    "</code>\n",
    "<br>\n",
    "\n",
    "The small caveat with the numpy.random package is that the numbers generated are not truly random but are generated based off some seed value, so it merely gives the illusion of randomness, however for most purposes pseudo random is sufficient.\n",
    "One of the advantages of pseudo random numbers is that by providing the same seed, the output will consistent and in some cases this will be important later if you want to test on a reproducable set of random numbers.\n",
    "\n",
    "### Randum Number Generators\n",
    "Random Number Generators are how the numpy.random package produces its random numbers, in your function or script you would typically define your random number generator first (perhaps passing it a seed value, to give predictable results) and then picking what generation function and arguments to supply.\n",
    "See below for a brief example of what this would look like, this well be fleshed out in code cells later with actual examples for Simple Random Data.\n",
    "\n",
    "```\n",
    ">>> import numpy as np\n",
    ">>> rng = np.random.default_rng()\n",
    ">>> rng.random()\n",
    "0.04493814959810294\n",
    ">>> rng.integers(10, size=(4, 5))\n",
    "array([[0, 3, 7, 1, 7],\n",
    "       [8, 4, 4, 6, 0],\n",
    "       [8, 1, 2, 3, 3],\n",
    "       [1, 7, 3, 5, 6]], dtype=int64)\n",
    "```\n",
    "\n",
    "The last thing to consider here is how Generators and Bit Generators interact, the randomness from Generators originates from Bit Generators and when you intialize ``np.random.default_rng()`` or ``np.random.Generator()`` it in turn initializes the Bit Generator, so the two typically work in tandem together with Generator relying on a Bit Generator.\n",
    "\n",
    "### Generators and Bit Generators Compared\n",
    "The Bit Generator itself does not directly provide any numbers, instead it manages state, sets the seed and sends back random bits which the Generator interprets as numbers. When no seed value is provided to the Bit Generator it generates a seed from the OS state, alternatively you can provide a seed value as a number or a array of numbers which the Bit Generator will interpret as the seed, it is generally advised to use a 32-bit value as a minimum but in practice you can use as low as 0 (Bit Generators seed values must be positive).\n",
    "\n",
    "## numpy.random and it's different functions\n",
    "Broadly the numpy.random package it's [Generator](https://numpy.org/doc/stable/reference/random/generator.html#numpy.random.Generator) (in previous version of [numpy.random](https://docs.scipy.org/doc/numpy-1.15.0/reference/routines.random.html) this was slightly different as these categories were broadly directly under numpy.random) can be broken up in the following for, which I will start to explore in the ensuing cells:\n",
    "- <b>Simple Random Data</b>\n",
    "        - This broadly covers simple random data like a random value between two numbers or random bytes, an array of random numbers, picking between several options like an array of strings or numbers.\n",
    "- <b>Permutations</b>\n",
    "        - When you have a preexisting set of values you want to change the order of, a simple example for a real life use for this would be where you want to scramble the results of your dataset for drawing samples.\n",
    "- <b>Distributions</b>\n",
    "        - A variety of different randomised distributions such as uniform, normal, exponential, power, logistic etc."
   ]
  },
  {
   "cell_type": "markdown",
   "metadata": {},
   "source": [
    "# 2. Explaining Simple Random Data and Permutations\n",
    "***\n",
    "\n",
    "## 2.1 Simple Random Data\n",
    "***\n",
    "Within Simple Random Data, there is but a few functions, <b>integers</b>, <b>random</b>, <b>choice</b> and <b>bytes</b>.\n",
    "To demonstrate how each of these works there are examples of them in the following set of cells.\n",
    "\n",
    "But as a first step I need to declare a default_rng, this object will be used throughout the rest of the notebook (except for section on seeds where it will be redeclared) as the generator for the different functions used."
   ]
  },
  {
   "cell_type": "code",
   "execution_count": 4,
   "metadata": {},
   "outputs": [],
   "source": [
    "#To start with I will first set up a rng, which will be used throughout the following cells for generating a variety of different random values\n",
    "rng = np.random.default_rng() #here rondom_num_generator is declared as a default_rng object"
   ]
  },
  {
   "cell_type": "markdown",
   "metadata": {},
   "source": [
    "***\n",
    "### integers\n",
    "<b>integers</b> is the first of the simple random data functions to be explored, this function returns a random integer number or array of integer numbers between two input arguments, it can also be specified whether the range of potential random numbers it returns can include or exclude the upper limit, the datatype can also be specified in the input arguments but this must be of some integer type."
   ]
  },
  {
   "cell_type": "code",
   "execution_count": 14,
   "metadata": {},
   "outputs": [
    {
     "name": "stdout",
     "output_type": "stream",
     "text": [
      "Random number from 0 to 10 - 0\n"
     ]
    }
   ],
   "source": [
    " #print a single random number from 1 to 10, when a single arg provided it assumes this is the high parameter\n",
    "print(\"Random number from 0 to 10 -\", rng.integers(10))"
   ]
  },
  {
   "cell_type": "code",
   "execution_count": 6,
   "metadata": {},
   "outputs": [
    {
     "name": "stdout",
     "output_type": "stream",
     "text": [
      "Array of 5 random numbers between 2 and 10 - [2 2 5 3 8]\n"
     ]
    }
   ],
   "source": [
    "#print an array of random numbers, this time providing several arguments\n",
    "print(\"Array of 5 random numbers between 2 and 10 -\", rng.integers(low=2,high=10,size=5))"
   ]
  },
  {
   "cell_type": "code",
   "execution_count": 7,
   "metadata": {},
   "outputs": [
    {
     "name": "stdout",
     "output_type": "stream",
     "text": [
      "Array of random numbers up to but not including 2 - [0 1 0 1 1]\n"
     ]
    }
   ],
   "source": [
    " #print a pseudo binary array of random numbers as it will only return 1's or 0's\n",
    "print(\"Array of random numbers up to but not including 2 -\", rng.integers(2,size=5))"
   ]
  },
  {
   "cell_type": "code",
   "execution_count": 8,
   "metadata": {},
   "outputs": [
    {
     "name": "stdout",
     "output_type": "stream",
     "text": [
      "Similar to previous example but instead it is inclusive of the high argument so can use 1 as first arg. instead of 2 -  [1 0 1 0 1]\n"
     ]
    }
   ],
   "source": [
    "#with endpoint set to true the integers returned will now be inclusive of the high argument\n",
    "print(\"Similar to previous example but instead it is inclusive of the high argument so can use 1 as first arg. instead of 2 - \",  rng.integers(1,size=5,endpoint=True))"
   ]
  },
  {
   "cell_type": "code",
   "execution_count": 11,
   "metadata": {},
   "outputs": [
    {
     "name": "stdout",
     "output_type": "stream",
     "text": [
      "Multi Dimensional array - [[5 4 2 6 8 6 8 5 2 5]\n",
      " [2 6 8 9 2 8 9 7 5 6]]\n"
     ]
    }
   ],
   "source": [
    "#print a multidimensional array of random numbers\n",
    "print(\"Multi Dimensional array -\",rng.integers(low=2,high=10,size=[2,10]))"
   ]
  },
  {
   "cell_type": "code",
   "execution_count": 12,
   "metadata": {},
   "outputs": [
    {
     "name": "stdout",
     "output_type": "stream",
     "text": [
      "Here dtype argument is changed to only allow 8 bit integer values with 255 being the largest 8 bit integer value possible -  238\n"
     ]
    }
   ],
   "source": [
    "print(\"Here dtype argument is changed to only allow 8 bit integer values with 255 being the largest 8 bit integer value possible - \", rng.integers(low=0,high=255, dtype=np.uint8, endpoint=True))"
   ]
  },
  {
   "cell_type": "code",
   "execution_count": 13,
   "metadata": {},
   "outputs": [
    {
     "name": "stdout",
     "output_type": "stream",
     "text": [
      "We've hit an Exception here as 256 is too large an integer for dtype np.uint8 -  high is out of bounds for uint8\n"
     ]
    }
   ],
   "source": [
    "#For final example with integers I want to show an example to illustrate the effect dtype can have, by exceeding the largest number possible with it\n",
    "#therefore I've manufactured an error to be caught in the following try except block\n",
    "try:\n",
    "    rng.integers(low=0,high=256, dtype=np.uint8, endpoint=True)\n",
    "except Exception as e:\n",
    "    print(\"We've hit an Exception here as 256 is too large an integer for dtype np.uint8 - \",str(e))"
   ]
  },
  {
   "cell_type": "markdown",
   "metadata": {},
   "source": [
    "***\n",
    "### random\n",
    "With the <b>random</b> function we can get returned a random floating point number between 0 and 1, the level of precision for the floating point can be set with the dtype argument (though in this case we can only sepcify either 32 bit or 64 bit floating point numbers)"
   ]
  },
  {
   "cell_type": "code",
   "execution_count": 19,
   "metadata": {},
   "outputs": [
    {
     "name": "stdout",
     "output_type": "stream",
     "text": [
      "random with no arguments passed to it will return a random float value between 0 and 1 -  0.19579622921454376\n"
     ]
    }
   ],
   "source": [
    "#random with no arguments supplied\n",
    "print('random with no arguments passed to it will return a random float value between 0 and 1 - ',rng.random())"
   ]
  },
  {
   "cell_type": "code",
   "execution_count": 21,
   "metadata": {},
   "outputs": [
    {
     "name": "stdout",
     "output_type": "stream",
     "text": [
      "Similarly to integers we can return an array of random numbers - [0.38217695 0.53739724 0.09911008 0.0277304  0.45598469 0.11275871\n",
      " 0.94743475 0.33141386 0.34065727 0.0842492 ]\n"
     ]
    }
   ],
   "source": [
    "#random array returned with 10 values\n",
    "print('Similarly to integers we can return an array of random numbers -', rng.random(size=10))"
   ]
  },
  {
   "cell_type": "code",
   "execution_count": 23,
   "metadata": {},
   "outputs": [
    {
     "name": "stdout",
     "output_type": "stream",
     "text": [
      "Again we can pass it a multidimensional array as the size argument to get that shape as the output -\n",
      " [[0.10098697 0.68554253]\n",
      " [0.56134129 0.8847077 ]\n",
      " [0.05848936 0.8517923 ]\n",
      " [0.80082324 0.30054333]\n",
      " [0.04071919 0.7398265 ]\n",
      " [0.88737797 0.90401603]\n",
      " [0.73087052 0.43172709]\n",
      " [0.44398243 0.57287118]\n",
      " [0.763791   0.95657566]\n",
      " [0.08017777 0.75889808]]\n"
     ]
    }
   ],
   "source": [
    "#10 row and 2 column multidimensional array returned\n",
    "print('Again we can pass it a multidimensional array as the size argument to get that shape as the output -\\n', rng.random(size=[10,2]))"
   ]
  },
  {
   "cell_type": "code",
   "execution_count": null,
   "metadata": {},
   "outputs": [],
   "source": [
    "my_out_array = rng.random(size=[3]) #setting my_out_array here, will then change it's values by using rng.random out argument\n",
    "print('Setting a variable to produce a array of size=3 -', my_out_array)\n",
    "rng.random([3], out=my_out_array) #here my_out_array is changed, note the array size must match\n",
    "print('my_out_array contents have now been changed by setting the out argument equal to the variable', my_out_array)\n"
   ]
  },
  {
   "cell_type": "markdown",
   "metadata": {},
   "source": [
    "### choice\n",
    "<b>choice</b> can be used to pick items out of a list or array and can either remove those items from the list as it 'chooses' from it, so that there is less options on subsequent choices or it can retain the list.\n",
    "\n",
    "The main advantage choice gives is that probablistic weights can be supplied for each of the items to choose from so that certain items are more or less likely to be returned.\n",
    "Below to highlight this I've used an example with an unfairly weighted coin so that heads is 'chosen' 80% (or .8) of the time."
   ]
  },
  {
   "cell_type": "code",
   "execution_count": 21,
   "metadata": {},
   "outputs": [
    {
     "name": "stdout",
     "output_type": "stream",
     "text": [
      "randomly picking from colour_list using a random number generator we get - blue, blue, red\n",
      "\n",
      "By supplying a single integer value isntead of a list choice acts mutch the same as integers - 5\n",
      "Similarly to integers with two integer arg's supplied it will return an array of specified size - [6 3 5 4 9 8 0 7 2 1]\n",
      "\n",
      "But more interestingly with the replace argument we can pull items out of the array as we go - [4 7 6 2 5 1 9 0 3 8]\n",
      "This could be used in a practical sense to pull out values from an array and continue to pick without getting duplicates - ['blue' 'green' 'red']\n",
      "Using an unfairly weighted coin first element in array is heads and second is tails - [782 218]\n"
     ]
    },
    {
     "data": {
      "image/png": "[encoded data removed]",
      "text/plain": [
       "<Figure size 432x288 with 1 Axes>"
      ]
     },
     "metadata": {
      "needs_background": "light"
     },
     "output_type": "display_data"
    }
   ],
   "source": [
    "#alternatively using a rng for colour picking\n",
    "colour_list = ['red', 'green', 'blue']\n",
    "rng.choice(colour_list)\n",
    "print(f\"randomly picking from colour_list using a random number generator we get - {np.random.choice(colour_list)}, {np.random.choice(colour_list)}, {np.random.choice(colour_list)}\")\n",
    "\n",
    "print(\"\\nBy supplying a single integer value isntead of a list choice acts mutch the same as integers -\",rng.choice(10))\n",
    "\n",
    "print(\"Similarly to integers with two integer arg's supplied it will return an array of specified size -\", rng.choice(a=10, size=10,replace=False))\n",
    "\n",
    "print(\"\\nBut more interestingly with the replace argument we can pull items out of the array as we go -\",rng.choice(10, 10,replace=False))\n",
    "print(\"This could be used in a practical sense to pull out values from an array and continue to pick without getting duplicates -\",rng.choice(colour_list, 3, replace=False))\n",
    "\n",
    "coin_flips = ['Heads', 'Tails'] #To illustrate the p argument for choice, I'm going to set an array to represent coin flips\n",
    "cheat_coin = rng.choice(coin_flips, p=[0.8, 0.2], size=1000) #Here I weight heads to happen 80% of the time and tails as 20% and return an array of size 1000 to clearly show the impact \n",
    "unique_elements, counts_elements = np.unique(cheat_coin, return_counts=True) #np.unique here returns the unique elements and total count of elements in the array code snippet was inspired from: https://www.w3resource.com/python-exercises/numpy/python-numpy-exercise-94.php\n",
    "print(\"Using an unfairly weighted coin first element in array is heads and second is tails -\",counts_elements)\n",
    "\n",
    "#Finally I use seaborn countplot to show a barchart comparing the heads vs. tails\n",
    "sns.countplot(x=cheat_coin).set(title='Unfair Coin Toss');"
   ]
  },
  {
   "cell_type": "markdown",
   "metadata": {},
   "source": [
    "choice generates a sample from a given input array or it can also treat an integer value as an array of values.\n",
    "One of the very handy things choice allows us to do is to pick from an array and not replace the value, so that if choosing multiple items from the array the previously chosen items are no longer available to choose from.\n",
    "\n",
    "In addition to this we can also assign probability weights to the various elements of the input array, such that some items will be more likely to be picked, this has great practical usage for pulling out items at random where the items might represent some event and those events have different probablities of occurring."
   ]
  },
  {
   "cell_type": "markdown",
   "metadata": {},
   "source": [
    "### bytes\n",
    "Returns a random list of bytes.\n",
    "This is the simplest of the simple random data functions and takes just one input argument that must be of type integer, this argument defines the length of the.\n",
    "\n",
    "To demonstrate this function below I've shown two examples with single and then multiple bytes returned, these are printed but then so too are the integer representation of each - [see int.from_bytes](https://docs.python.org/3/library/stdtypes.html)."
   ]
  },
  {
   "cell_type": "code",
   "execution_count": 83,
   "metadata": {},
   "outputs": [
    {
     "name": "stdout",
     "output_type": "stream",
     "text": [
      "1 random byte\n",
      "b'\\x1e'\n",
      "Convert to integer where most significant bit is at the begining of the the byte array - 30\n",
      "Convert to integer where most significant bit is at the end of the the byte array - 30\n",
      "\n",
      "2 random bytes\n",
      "b'\\xbe,'\n",
      "Convert to integer where most significant bit is at the begining of the the byte array - 48684\n",
      "Convert to integer where most significant bit is at the end of the the byte array - 11454\n",
      "\n",
      "10 random bytes\n",
      "b'FeA\"\\xb0\\x17\\x97\\xb5\\xa0?'\n",
      "Convert to integer where most significant bit is at the begining of the the byte array - 332433468459696879149119\n",
      "Convert to integer where most significant bit is at the end of the the byte array - 300473652425868781380934\n"
     ]
    }
   ],
   "source": [
    "#get a single random byte\n",
    "print('1 random byte')\n",
    "byte_str = rng.bytes(1) \n",
    "print(byte_str)\n",
    "print('Convert to integer where most significant bit is at the begining of the the byte array -',int.from_bytes(byte_str, byteorder='big')) #show byte integer representation using order of big\n",
    "print('Convert to integer where most significant bit is at the end of the the byte array -',int.from_bytes(byte_str, byteorder='little')) #show byte integer representation using order of little\n",
    "\n",
    "print('\\n2 random bytes')\n",
    "#get 2 random bytes\n",
    "byte_str = rng.bytes(2) \n",
    "print(byte_str)\n",
    "print('Convert to integer where most significant bit is at the begining of the the byte array -', int.from_bytes(byte_str, byteorder='big')) #show byte integer representation using order of big\n",
    "print('Convert to integer where most significant bit is at the end of the the byte array -',int.from_bytes(byte_str, byteorder='little')) #show byte integer representation using order of little\n",
    "\n",
    "print('\\n10 random bytes')\n",
    "#get 10 random bytes\n",
    "byte_str = rng.bytes(10) \n",
    "print(byte_str)\n",
    "print('Convert to integer where most significant bit is at the begining of the the byte array -', int.from_bytes(byte_str, byteorder='big')) #show byte integer representation using order of big\n",
    "print('Convert to integer where most significant bit is at the end of the the byte array -',int.from_bytes(byte_str, byteorder='little')) #show byte integer representation using order of little"
   ]
  },
  {
   "cell_type": "markdown",
   "metadata": {},
   "source": [
    "***\n",
    "## 2.2 Permutations\n",
    "***\n",
    "For permutations in numpy.random we have the functions <b>shuffle</b> and <b>permutation</b>.\n",
    "<b>Shuffle</b> performs its operation in place, so whatever object you pass into np.random.shuffle() is changed.\n",
    "<b>Permutation</b> performs its operation on a copy of the object passed to it, so in practice you would set some variable equal to your np.random.permutation() operation to retain it.\n",
    "\n",
    "\n",
    "See the next cell for an example of both."
   ]
  },
  {
   "cell_type": "code",
   "execution_count": 89,
   "metadata": {},
   "outputs": [
    {
     "name": "stdout",
     "output_type": "stream",
     "text": [
      "my_list before it is shuffled: [1, 2, 3, 4, 5, 6, 7, 8, 9, 10]\n",
      "my_list after permutation: [1, 2, 3, 4, 5, 6, 7, 8, 9, 10]\n",
      "my_permu_list: [ 6  2  3  8 10  9  4  5  7  1]\n",
      "my_list after shuffle: [2, 3, 8, 9, 6, 5, 7, 4, 1, 10]\n"
     ]
    }
   ],
   "source": [
    "#Declare a simple list that is already ordered\n",
    "my_list = [1,2,3,4,5,6,7,8,9,10]\n",
    "print(\"my_list before it is shuffled:\",my_list) #print the list\n",
    "my_permu_list = rng.permutation(my_list) #perform permutation, assign variable to result\n",
    "print(\"my_list after permutation:\",my_list) #print original my_list, show it has not changed\n",
    "print(\"my_permu_list:\", my_permu_list) #print the permutation list\n",
    "rng.shuffle(my_list) #perform shuffle on my_list\n",
    "print(\"my_list after shuffle:\", my_list) #finally show my_list again, now it has changed"
   ]
  },
  {
   "cell_type": "markdown",
   "metadata": {},
   "source": [
    "From the above we can see that while I provided a list for both permutation and shuffle, it still works despite it not being a numpy array, interestingly we can see that after shuffling the list it still returns as a list but when we assign a variable (my_permu_list) to the rng.permutation() of the original list, the variable returns as an array."
   ]
  },
  {
   "cell_type": "markdown",
   "metadata": {},
   "source": [
    "***\n",
    "# 3. Distributions\n",
    "***\n",
    "The distributions functions for numpy.random reflect the various probability distributions for their namesakes (https://en.wikipedia.org/wiki/Probability_distributionhttps://en.wikipedia.org/wiki/Probability_distribution).\n",
    "\n",
    "\n",
    "By using for example the uniform distribution function within the numpy.random package we can get returned a randomised represntation of a uniform distribution, which meets the criteria specified in the input arguments when calling the function.\n",
    "The produced values for the distribution can then be visualised or in turn used for further calculations if there is a need for fake random data.\n",
    "\n",
    "\n",
    "## Uniform Distribution\n",
    "[Uniform Distribution Documentation](https://numpy.org/doc/stable/reference/random/generated/numpy.random.Generator.uniform.html#numpy.random.Generator.uniform)\n",
    "The uniform distribution takes 3 arguments as its inputs.\n",
    "- low, this sets the minimum value the distribution can return (the lower bound).\n",
    "- high, this sets the maximum value the distribution can return (the upper bound).\n",
    "- size, the number of values to be returned or more strictly the shape of the array to be returned, as size does not need to be a integer input and can be a tuple.\n",
    "\n",
    "It returns a numpy array whose shape is according to the input arguments and there is some examples of this in the following cell."
   ]
  },
  {
   "cell_type": "code",
   "execution_count": 6,
   "metadata": {},
   "outputs": [
    {
     "data": {
      "image/png": "[encoded data removed]",
      "text/plain": [
       "<Figure size 432x288 with 1 Axes>"
      ]
     },
     "metadata": {
      "needs_background": "light"
     },
     "output_type": "display_data"
    },
    {
     "data": {
      "image/png": "[encoded data removed]",
      "text/plain": [
       "<Figure size 432x288 with 1 Axes>"
      ]
     },
     "metadata": {
      "needs_background": "light"
     },
     "output_type": "display_data"
    },
    {
     "data": {
      "image/png": "[encoded data removed]",
      "text/plain": [
       "<Figure size 432x288 with 1 Axes>"
      ]
     },
     "metadata": {
      "needs_background": "light"
     },
     "output_type": "display_data"
    },
    {
     "data": {
      "image/png": "[encoded data removed]",
      "text/plain": [
       "<Figure size 432x288 with 1 Axes>"
      ]
     },
     "metadata": {
      "needs_background": "light"
     },
     "output_type": "display_data"
    }
   ],
   "source": [
    "# Using matplotlib.pyplot to show histograms showing output from random.uniform with varying size of array\n",
    "# rand_uniform = np.random.uniform(low=0,high=10,size=100) alternative way without using user defined rng object\n",
    "rand_uniform = rng.uniform(low=0,high=10,size=100)\n",
    "plt.hist(rand_uniform)\n",
    "plt.title(\"100 random uniform numbers\")\n",
    "plt.show()\n",
    "rand_uniform = rng.uniform(low=0,high=10,size=1000)\n",
    "plt.hist(rand_uniform)\n",
    "plt.title(\"1000 random uniform numbers\")\n",
    "plt.show()\n",
    "rand_uniform = rng.uniform(low=0,high=10,size=10000)\n",
    "plt.hist(rand_uniform)\n",
    "plt.title(\"10000 random uniform numbers\")\n",
    "plt.show()\n",
    "rand_uniform = rng.uniform(low=0,high=10,size=(100,10))\n",
    "plt.hist(rand_uniform)\n",
    "plt.title(\"10 sets of 100 random uniform numbers\")\n",
    "plt.show()\n"
   ]
  },
  {
   "cell_type": "markdown",
   "metadata": {},
   "source": [
    "## Normal Distribution\n",
    "[Normal Distribution Documentation]\n",
    "(https://numpy.org/doc/stable/reference/random/generated/numpy.random.Generator.random.html#numpy.random.Generator.random)\n",
    "With numpy.random.normal it produces a numpy array of normal numbers, when supplying the arguments below of loc=10,and size=100 this gives us an array of 100 numbers normally distributed around 10.\n",
    "\n",
    "Below I play around with this and show the larger the array, the more normal the histogram ends up looking and therefore the more normal the distribution is.\n",
    "\n",
    "The normal distribution in numpy takes only two arguments:\n",
    "- loc, this is the point at which the distribution is centered around.\n",
    "- size, this is the size of the array to generate, again like with uniform distribution this can be a tuple, which results in a multidimensional array."
   ]
  },
  {
   "cell_type": "code",
   "execution_count": 7,
   "metadata": {},
   "outputs": [
    {
     "data": {
      "image/png": "[encoded data removed]",
      "text/plain": [
       "<Figure size 432x288 with 1 Axes>"
      ]
     },
     "metadata": {
      "needs_background": "light"
     },
     "output_type": "display_data"
    },
    {
     "data": {
      "image/png": "[encoded data removed]",
      "text/plain": [
       "<Figure size 432x288 with 1 Axes>"
      ]
     },
     "metadata": {
      "needs_background": "light"
     },
     "output_type": "display_data"
    },
    {
     "data": {
      "image/png": "[encoded data removed]",
      "text/plain": [
       "<Figure size 432x288 with 1 Axes>"
      ]
     },
     "metadata": {
      "needs_background": "light"
     },
     "output_type": "display_data"
    }
   ],
   "source": [
    "# Using matplotlib.pyplot to show histograms showing output from random.uniform with varying size of array\n",
    "#rand_normal = np.random.normal(loc=10,size=100)\n",
    "rand_normal = rng.normal(loc=10,size=100)\n",
    "plt.hist(rand_normal)\n",
    "plt.title(\"100 random normal numbers\")\n",
    "plt.show()\n",
    "rand_normal = rng.normal(loc=10,size=1000)\n",
    "plt.hist(rand_normal)\n",
    "plt.title(\"1000 random normal numbers\")\n",
    "plt.show()\n",
    "rand_normal = rng.normal(loc=10,size=10000)\n",
    "plt.hist(rand_normal)\n",
    "plt.title(\"10000 random normal numbers\")\n",
    "plt.show()"
   ]
  },
  {
   "cell_type": "markdown",
   "metadata": {},
   "source": [
    "The above examples demonstrating picking a random choice from a list of given options, producing a uniform distribution or producing a random normal distribution are all applications that have realy world usages, where someone may want to produce a random distribution to test some model or may want a randomised effect to happen when a script is ran\n",
    "\n",
    "## Binomial Distribution\n",
    "With the binomial function from default_rng I can get a binomial distribution, where I provide 3 arguments n number of successes, p probability of success, and size the number of trials to run and array that results"
   ]
  },
  {
   "cell_type": "code",
   "execution_count": 8,
   "metadata": {},
   "outputs": [
    {
     "data": {
      "image/png": "[encoded data removed]",
      "text/plain": [
       "<Figure size 432x288 with 1 Axes>"
      ]
     },
     "metadata": {
      "needs_background": "light"
     },
     "output_type": "display_data"
    }
   ],
   "source": [
    "bin_coin_dist = rng.binomial( n=1, p=0.5, size=1000) #distribution for 1 coin flip\n",
    "plt.hist(bin_coin_dist); #show histogram of distribution"
   ]
  },
  {
   "cell_type": "markdown",
   "metadata": {},
   "source": [
    "This simple binomial distribution shows when doing a single coin flip 1000 times, you get almost 50% at 0 and 50% at 1, meaning we have 50% chance for having 0 wins or 1 win"
   ]
  },
  {
   "cell_type": "code",
   "execution_count": 9,
   "metadata": {},
   "outputs": [
    {
     "data": {
      "image/png": "[encoded data removed]",
      "text/plain": [
       "<Figure size 432x288 with 1 Axes>"
      ]
     },
     "metadata": {
      "needs_background": "light"
     },
     "output_type": "display_data"
    }
   ],
   "source": [
    "bin_coin_dist = rng.binomial( n=10, p=0.5, size=1000) #distribution for 10 coin flips\n",
    "plt.hist(bin_coin_dist); #show histogram of distribution"
   ]
  },
  {
   "cell_type": "markdown",
   "metadata": {},
   "source": [
    "In the next Binomial Distribution I test, when you do 10 coin flips 1000 times what the distribution for wins is, in this case the chance for 0 wins is very low, similarly so for 8 and we have most number of occurences for 5 wins at 250 occurences, this looks very similar to a normal distribution from earlier.\n",
    "\n",
    "Next I will show an example showing the distribution of values when rolling a dice once and three times over 1000 repeats.\n"
   ]
  },
  {
   "cell_type": "code",
   "execution_count": 10,
   "metadata": {},
   "outputs": [
    {
     "data": {
      "image/png": "[encoded data removed]",
      "text/plain": [
       "<Figure size 432x288 with 1 Axes>"
      ]
     },
     "metadata": {
      "needs_background": "light"
     },
     "output_type": "display_data"
    }
   ],
   "source": [
    "bin_dice_roll = rng.binomial( n=1, p=1/6, size=1000)\n",
    "plt.hist(bin_dice_roll);"
   ]
  },
  {
   "cell_type": "code",
   "execution_count": 11,
   "metadata": {},
   "outputs": [
    {
     "data": {
      "image/png": "[encoded data removed]",
      "text/plain": [
       "<Figure size 432x288 with 1 Axes>"
      ]
     },
     "metadata": {
      "needs_background": "light"
     },
     "output_type": "display_data"
    }
   ],
   "source": [
    "bin_dice_roll = rng.binomial( n=3, p=1/6, size=1000)\n",
    "plt.hist(bin_dice_roll);"
   ]
  },
  {
   "cell_type": "markdown",
   "metadata": {},
   "source": [
    "## Exponential Distribution"
   ]
  },
  {
   "cell_type": "code",
   "execution_count": 12,
   "metadata": {},
   "outputs": [
    {
     "data": {
      "image/png": "[encoded data removed]",
      "text/plain": [
       "<Figure size 432x288 with 1 Axes>"
      ]
     },
     "metadata": {
      "needs_background": "light"
     },
     "output_type": "display_data"
    }
   ],
   "source": [
    "exp_dist_array = rng.exponential(scale=100, size=1000)\n",
    "exp_dist_array.sort()\n",
    "plt.plot(exp_dist_array);"
   ]
  },
  {
   "cell_type": "code",
   "execution_count": 13,
   "metadata": {},
   "outputs": [
    {
     "data": {
      "image/png": "[encoded data removed]",
      "text/plain": [
       "<Figure size 432x288 with 1 Axes>"
      ]
     },
     "metadata": {
      "needs_background": "light"
     },
     "output_type": "display_data"
    }
   ],
   "source": [
    "plt.hist(exp_dist_array);"
   ]
  },
  {
   "cell_type": "markdown",
   "metadata": {},
   "source": [
    "## Power Dsitribution"
   ]
  },
  {
   "cell_type": "code",
   "execution_count": 14,
   "metadata": {},
   "outputs": [
    {
     "data": {
      "image/png": "[encoded data removed]",
      "text/plain": [
       "<Figure size 432x288 with 1 Axes>"
      ]
     },
     "metadata": {
      "needs_background": "light"
     },
     "output_type": "display_data"
    },
    {
     "data": {
      "image/png": "[encoded data removed]",
      "text/plain": [
       "<Figure size 432x288 with 1 Axes>"
      ]
     },
     "metadata": {
      "needs_background": "light"
     },
     "output_type": "display_data"
    }
   ],
   "source": [
    "power_dist_array = rng.power(10,1000)\n",
    "power_dist_array.sort()\n",
    "plt.hist(power_dist_array)\n",
    "plt.show()\n",
    "plt.plot(power_dist_array)\n",
    "plt.show();"
   ]
  },
  {
   "cell_type": "markdown",
   "metadata": {},
   "source": [
    "## Logistic Distribution"
   ]
  },
  {
   "cell_type": "code",
   "execution_count": 15,
   "metadata": {},
   "outputs": [
    {
     "data": {
      "image/png": "[encoded data removed]",
      "text/plain": [
       "<Figure size 432x288 with 1 Axes>"
      ]
     },
     "metadata": {
      "needs_background": "light"
     },
     "output_type": "display_data"
    },
    {
     "data": {
      "text/plain": [
       "[<matplotlib.lines.Line2D at 0x1cca8be7fa0>]"
      ]
     },
     "execution_count": 15,
     "metadata": {},
     "output_type": "execute_result"
    },
    {
     "data": {
      "image/png": "[encoded data removed]",
      "text/plain": [
       "<Figure size 432x288 with 1 Axes>"
      ]
     },
     "metadata": {
      "needs_background": "light"
     },
     "output_type": "display_data"
    }
   ],
   "source": [
    "log_dist_array = np.random.default_rng().logistic(loc=0, scale=1, size=10000)\n",
    "log_dist_array.sort() #sorting the array to do lineplot\n",
    "plt.hist(log_dist_array)\n",
    "plt.show();\n",
    "plt.plot(log_dist_array)"
   ]
  },
  {
   "cell_type": "markdown",
   "metadata": {},
   "source": [
    "## Laplace Distribution"
   ]
  },
  {
   "cell_type": "code",
   "execution_count": 16,
   "metadata": {},
   "outputs": [
    {
     "data": {
      "image/png": "[encoded data removed]",
      "text/plain": [
       "<Figure size 432x288 with 1 Axes>"
      ]
     },
     "metadata": {
      "needs_background": "light"
     },
     "output_type": "display_data"
    },
    {
     "data": {
      "text/plain": [
       "[<matplotlib.lines.Line2D at 0x1cca8af4790>]"
      ]
     },
     "execution_count": 16,
     "metadata": {},
     "output_type": "execute_result"
    },
    {
     "data": {
      "image/png": "[encoded data removed]",
      "text/plain": [
       "<Figure size 432x288 with 1 Axes>"
      ]
     },
     "metadata": {
      "needs_background": "light"
     },
     "output_type": "display_data"
    }
   ],
   "source": [
    "laplace_dist_array = np.random.default_rng().laplace(loc=0, scale=1, size=10000)\n",
    "laplace_dist_array.sort() #sorting the array to do lineplot\n",
    "plt.hist(laplace_dist_array)\n",
    "plt.show();\n",
    "plt.plot(laplace_dist_array)"
   ]
  },
  {
   "cell_type": "markdown",
   "metadata": {},
   "source": [
    "# 4. Seeds\n",
    "***\n",
    "## Very Simple example"
   ]
  },
  {
   "cell_type": "code",
   "execution_count": 17,
   "metadata": {},
   "outputs": [
    {
     "name": "stdout",
     "output_type": "stream",
     "text": [
      "First loop of five random numbers\n",
      "0.5118216247002567\n",
      "0.9504636963259353\n",
      "0.14415961271963373\n",
      "0.9486494471372439\n",
      "0.31183145201048545\n",
      "\n",
      "Second loop of five random numbers after re-assigning seed value\n",
      "0.5118216247002567\n",
      "0.9504636963259353\n",
      "0.14415961271963373\n",
      "0.9486494471372439\n",
      "0.31183145201048545\n",
      "\n",
      "Final loop demonstrates re-assigning seed value as part of loop so we keep getting same random value\n",
      "0.5118216247002567\n",
      "0.5118216247002567\n",
      "0.5118216247002567\n",
      "0.5118216247002567\n",
      "0.5118216247002567\n"
     ]
    }
   ],
   "source": [
    "rng_seeded_1 = np.random.default_rng(1)\n",
    "print(\"First loop of five random numbers\")\n",
    "for i in range(5):\n",
    "    print(rng_seeded_1.random())\n",
    "\n",
    "rng_seeded_2 = np.random.default_rng(1)\n",
    "print(\"\\nSecond loop of five random numbers after re-assigning seed value\")\n",
    "for i in range(5):\n",
    "    print(rng_seeded_2.random())\n",
    "\n",
    "print(\"\\nFinal loop demonstrates re-assigning seed value as part of loop so we keep getting same random value\")\n",
    "for i in range(5):\n",
    "    rng_seeded = np.random.default_rng(1)\n",
    "    print(rng_seeded.random())"
   ]
  },
  {
   "cell_type": "code",
   "execution_count": 18,
   "metadata": {},
   "outputs": [
    {
     "name": "stdout",
     "output_type": "stream",
     "text": [
      "With seed set to 1, I will always get - green, green, blue\n",
      "Proof - green, green, blue\n"
     ]
    }
   ],
   "source": [
    "rgb_list = ['red', 'green', 'blue']\n",
    "rng_seeded_1 = np.random.default_rng(1)\n",
    "print(f'With seed set to 1, I will always get - {rng_seeded_1.choice(rgb_list)}, {rng_seeded_1.choice(rgb_list)}, {rng_seeded_1.choice(rgb_list)}')\n",
    "rng_seeded_2 = np.random.default_rng(1)\n",
    "print(f'Proof - {rng_seeded_2.choice(rgb_list)}, {rng_seeded_2.choice(rgb_list)}, {rng_seeded_2.choice(rgb_list)}')"
   ]
  },
  {
   "cell_type": "markdown",
   "metadata": {},
   "source": [
    "## Bit Generators compared PCG64 vs. Mersenne Twister\n",
    "***\n",
    "PCG64 is the default bit generator used for numpy version 1.19.\n",
    "(https://numpy.org/doc/stable/reference/random/generator.html?highlight=pcg64)\n",
    "\n",
    "Mersenne Twister is the previous default bit generator as of version 1.15 till the latest version of numpy.\n",
    "(https://docs.scipy.org/doc/numpy-1.15.1/reference/generated/numpy.random.RandomState.html#numpy.random.RandomState)\n",
    "\n",
    "PCG64 is now the default bit generator due to its Statistical quality, it's performance time and minimal code size and complexity to name but a few reasons (see https://www.pcg-random.org/index.html for tabular comparison of PCG64 vs other Bit Generators and in particular Mersenne Twister).\n",
    "Statistical quality refers to how likely is the random number generator to fail a test for true randomness.\n",
    "\n"
   ]
  },
  {
   "cell_type": "code",
   "execution_count": 19,
   "metadata": {},
   "outputs": [
    {
     "name": "stdout",
     "output_type": "stream",
     "text": [
      "139 µs ± 2.51 µs per loop (mean ± std. dev. of 7 runs, 10000 loops each)\n"
     ]
    }
   ],
   "source": [
    "%%timeit\n",
    "np.random.MT19937(1)"
   ]
  },
  {
   "cell_type": "code",
   "execution_count": 20,
   "metadata": {},
   "outputs": [
    {
     "name": "stdout",
     "output_type": "stream",
     "text": [
      "26 µs ± 731 ns per loop (mean ± std. dev. of 7 runs, 10000 loops each)\n"
     ]
    }
   ],
   "source": [
    "%%timeit\n",
    "np.random.PCG64(1)"
   ]
  },
  {
   "cell_type": "markdown",
   "metadata": {},
   "source": [
    "Performing a very rudimentary timeing of the running Mersenne Twister and PCG64 (while still taking a relatively miniscule time in both cases), PCG64 performs significantly faster, at more than 5 times the speed. \n",
    "This can also be observed simply by seeing how many times it takes for each to run 10000 times."
   ]
  },
  {
   "cell_type": "code",
   "execution_count": null,
   "metadata": {},
   "outputs": [],
   "source": []
  },
  {
   "cell_type": "code",
   "execution_count": null,
   "metadata": {},
   "outputs": [],
   "source": []
  },
  {
   "cell_type": "code",
   "execution_count": null,
   "metadata": {},
   "outputs": [],
   "source": []
  }
 ],
 "metadata": {
  "kernelspec": {
   "display_name": "Python 3",
   "language": "python",
   "name": "python3"
  },
  "language_info": {
   "codemirror_mode": {
    "name": "ipython",
    "version": 3
   },
   "file_extension": ".py",
   "mimetype": "text/x-python",
   "name": "python",
   "nbconvert_exporter": "python",
   "pygments_lexer": "ipython3",
   "version": "3.8.5"
  }
 },
 "nbformat": 4,
 "nbformat_minor": 4
}
