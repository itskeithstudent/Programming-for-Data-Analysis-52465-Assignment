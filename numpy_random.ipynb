{
 "cells": [
  {
   "cell_type": "markdown",
   "metadata": {},
   "source": [
    "# <b>Programming For Data Analysis Assignment</b>\n",
    "# numpy.random package explored\n",
    "\n",
    "## Some general requirements as mentioned in videos\n",
    "Include comparison of PCG64 (new version of seed random generator - https://numpy.org/doc/stable/reference/random/generator.html?highlight=pcg64) vs. Mersenne Twister (https://docs.scipy.org/doc/numpy-1.15.1/reference/generated/numpy.random.RandomState.html#numpy.random.RandomState)\n",
    "\n",
    "Include explanation of bit generators and generators"
   ]
  },
  {
   "cell_type": "code",
   "execution_count": 11,
   "metadata": {},
   "outputs": [],
   "source": [
    "#Setup import for remaining notebook\n",
    "import numpy as np\n",
    "import matplotlib.pyplot as plt"
   ]
  },
  {
   "cell_type": "markdown",
   "metadata": {},
   "source": [
    "# 1. Explaining the Overall Purpose of the numpy.random package\n",
    "## Overview\n",
    "The <b>numpy.random</b> package allows us to generate pseudo random numbers in Python in a number of different ways, which in turn allows the package to be used for a variety of different functions at its most basic it can give simple random data for adding randomness to some script (like pick a random number from 1 to 10 or set of numbers) or picking a random item from a list, to more complex randomised data for scientific usage like generating a sequence of numbers to represent a type of distibution or picking random samples from a dataset to test and validate a model with.\n",
    "\n",
    "Numpy as a package in general deals primarily with it's own <i>array</i> data structure (it shares many similarities with Python's native list data structure) and numpy.random generally returns its results as arrays and often expects arrays as one of its inputs, given how arrays work in numpy this means we can return random data in different ways so can get multidimensional or flat arrays.\n",
    "\n",
    "<code>\n",
    "1-Dimensional Array - [1 2 3]\n",
    "2-Dimensional Array - [[1 2 3] \n",
    "                       [4 5 6]]\n",
    "</code>\n",
    "<br>\n",
    "\n",
    "The small caveat with the numpy.random package is that the numbers generated are not truly random but are generated based off some seed value, so it merely gives the illusion of randomness, however for most purposes pseudo random is sufficient.\n",
    "One of the advantages of pseudo random numbers is that by providing the same seed, the output will consistent and in some cases this will be important later if you want to test on a reproducable set of random numbers.\n",
    "\n",
    "Random Number Generators are how the numpy.random package produces its random numbers, in your function or script you would typically define your random number generator first (perhaps passing it a seed value, to give predictable results) and then picking what generation function and arguments to supply.\n",
    "See below for a brief example of what this would look like, this well be fleshed out in code cells later with actual examples for Simple Random Data.\n",
    "\n",
    "```\n",
    ">>> import numpy as np\n",
    ">>> rng = np.random.default_rng()\n",
    ">>> rng.random()\n",
    "0.04493814959810294\n",
    ">>> rng.integers(10, size=(4, 5))\n",
    "array([[0, 3, 7, 1, 7],\n",
    "       [8, 4, 4, 6, 0],\n",
    "       [8, 1, 2, 3, 3],\n",
    "       [1, 7, 3, 5, 6]], dtype=int64)\n",
    "```\n",
    "\n",
    "The last thing to consider here is how Generators and Bit Generators interact, the randomness from Generators originates from Bit Generators and when you intialize ``np.random.default_rng()`` or ``np.random.Generator()`` it in turn initializes the Bit Generator, so the two typically work in tandem together with Generator relying on a Bit Generator.\n",
    "\n",
    "The Bit Generator itself does not directly provide any numbers, instead it manages state, sets the seed and sends back random bits which the Generator interprets as numbers. When no seed value is provided to the Bit Generator it generates a seed from the OS state, alternatively you can provide a seed value as a number or a array of numbers which the Bit Generator will interpret as the seed, it is generally advised to use a 32-bit value as a minimum but in practice you can use as low as 0 (Bit Generators seed values must be positive).\n",
    "\n",
    "## Functionality within numpy.random\n",
    "Broadly, the numpy.random package can be broken up in the following categories, which I will start to explore in the preceeding cells:\n",
    "- <b>Simple Random Data</b>\n",
    "        - For simple random data like a random value between two numbers or random bytes, an array of random numbers, picking between several options like an array of strings or numbers.\n",
    "- <b>Permutations</b>\n",
    "        - When you have a preexisting set of values you want to change the order of.\n",
    "- <b>Distributions</b>\n",
    "        - Produce a variety of different randomised distributions such as exponential, logarithmic, normal, uniform etc."
   ]
  },
  {
   "cell_type": "markdown",
   "metadata": {},
   "source": [
    "# 2. Simple Random Data"
   ]
  },
  {
   "cell_type": "code",
   "execution_count": 17,
   "metadata": {},
   "outputs": [],
   "source": [
    "#To start with I will first set up a rng, which will be used throughout the following cells for generating a variety of different random values\n",
    "rng = np.random.default_rng() #here rondom_num_generator is declared as a default_rng object"
   ]
  },
  {
   "cell_type": "code",
   "execution_count": 18,
   "metadata": {},
   "outputs": [
    {
     "name": "stdout",
     "output_type": "stream",
     "text": [
      "Random number from 0 to 10 - 4\n",
      "Array of 5 random numbers between 2 and 10 - [3 2 2 4 9]\n",
      "Array of random numbers up to but not including 2 - [1 1 0 0 1]\n",
      "Multi Dimensional array - [[3 8 8 4 2 2 8 2 8 8]\n",
      " [5 8 3 6 7 5 8 4 3 6]]\n"
     ]
    }
   ],
   "source": [
    "print(\"Random number from 0 to 10 -\", rng.integers(10)) #print a single random number from 1 to 10, when a single arg provided it assumes this is the high parameter\n",
    "print(\"Array of 5 random numbers between 2 and 10 -\", rng.integers(low=2,high=10,size=5)) #print an array of random numbers, this time providing several arguments\n",
    "print(\"Array of random numbers up to but not including 2 -\", rng.integers(2,size=5)) #print a pseudo binary array of random numbers as it will only return 1's or 0's\n",
    "print(\"Multi Dimensional array -\",rng.integers(low=2,high=10,size=[2,10])) #print a multidimensional array of random numbers"
   ]
  },
  {
   "cell_type": "code",
   "execution_count": 20,
   "metadata": {},
   "outputs": [
    {
     "name": "stdout",
     "output_type": "stream",
     "text": [
      "randomly picking from colour_list using a random number generator we get - red, blue, blue\n"
     ]
    }
   ],
   "source": [
    "#alternatively using a rng for colour picking\n",
    "colour_list = ['red', 'green', 'blue']\n",
    "rng.choice(colour_list)\n",
    "print(f\"randomly picking from colour_list using a random number generator we get - {np.random.choice(colour_list)}, {np.random.choice(colour_list)}, {np.random.choice(colour_list)}\")"
   ]
  },
  {
   "cell_type": "markdown",
   "metadata": {},
   "source": [
    "# 3. Permutations\n",
    "For permutations in numpy.random we have the functions <b>shuffle</b> and <b>permutation</b>.\n",
    "<b>Shuffle</b> performs its operation in place, so whatever object you pass into np.random.shuffle() is changed.\n",
    "<b>Permutation</b> performs its operation on a copy of the object passed to it, so in practice you would set some variable equal to your np.random.permutation() operation to retain it.\n",
    "\n",
    "\n",
    "See the next cell for an example of both."
   ]
  },
  {
   "cell_type": "code",
   "execution_count": 21,
   "metadata": {},
   "outputs": [
    {
     "name": "stdout",
     "output_type": "stream",
     "text": [
      "my_list before it is shuffled: [1, 2, 3, 4, 5, 6, 7, 8, 9, 10]\n",
      "my_list after permutation: [1, 2, 3, 4, 5, 6, 7, 8, 9, 10]\n",
      "my_permu_list: [ 8  6  5 10  4  9  3  2  1  7]\n",
      "my_list after shuffle: [9, 5, 8, 4, 6, 1, 2, 7, 3, 10]\n"
     ]
    }
   ],
   "source": [
    "#Declare a simple list that is already ordered\n",
    "my_list = [1,2,3,4,5,6,7,8,9,10]\n",
    "print(\"my_list before it is shuffled:\",my_list) #print the list\n",
    "my_permu_list = np.random.permutation(my_list) #perform permutation, assign variable to result\n",
    "print(\"my_list after permutation:\",my_list) #print original my_list, show it has not changed\n",
    "print(\"my_permu_list:\", my_permu_list) #print the permutation list\n",
    "np.random.shuffle(my_list) #perform shuffle on my_list\n",
    "print(\"my_list after shuffle:\", my_list) #finally show my_list again, now it has changed"
   ]
  },
  {
   "cell_type": "markdown",
   "metadata": {},
   "source": [
    "# 4. Distributions\n",
    "With numpy.random.unform it produces a numpy array of numbers, when supplying the arguments below of low=0, high=10 and size=100 this gives us an array of 100 numbers uniformly distributed from 0 to 10.\n",
    "\n",
    "Below I play around with this and show the larger the array, the more uniform the histogram ends up looking and therefore the more uniform the distribution is.\n",
    "\n",
    "## Uniform Distribution"
   ]
  },
  {
   "cell_type": "code",
   "execution_count": 22,
   "metadata": {},
   "outputs": [
    {
     "data": {
      "image/png": "[encoded data removed]",
      "text/plain": [
       "<Figure size 432x288 with 1 Axes>"
      ]
     },
     "metadata": {
      "needs_background": "light"
     },
     "output_type": "display_data"
    },
    {
     "data": {
      "image/png": "[encoded data removed]",
      "text/plain": [
       "<Figure size 432x288 with 1 Axes>"
      ]
     },
     "metadata": {
      "needs_background": "light"
     },
     "output_type": "display_data"
    },
    {
     "data": {
      "image/png": "[encoded data removed]",
      "text/plain": [
       "<Figure size 432x288 with 1 Axes>"
      ]
     },
     "metadata": {
      "needs_background": "light"
     },
     "output_type": "display_data"
    }
   ],
   "source": [
    "# Using matplotlib.pyplot to show histograms showing output from random.uniform with varying size of array\n",
    "rand_uniform = np.random.uniform(low=0,high=10,size=100)\n",
    "plt.hist(rand_uniform)\n",
    "plt.title(\"100 random uniform numbers\")\n",
    "plt.show()\n",
    "rand_uniform = np.random.uniform(low=0,high=10,size=1000)\n",
    "plt.hist(rand_uniform)\n",
    "plt.title(\"1000 random uniform numbers\")\n",
    "plt.show()\n",
    "rand_uniform = np.random.uniform(low=0,high=10,size=1000)\n",
    "plt.hist(rand_uniform)\n",
    "plt.title(\"10000 random uniform numbers\")\n",
    "plt.show()\n"
   ]
  },
  {
   "cell_type": "markdown",
   "metadata": {},
   "source": [
    "With numpy.random.normal it produces a numpy array of normal numbers, when supplying the arguments below of loc=10,and size=100 this gives us an array of 100 numbers normally distributed around 10.\n",
    "\n",
    "Below I play around with this and show the larger the array, the more normal the histogram ends up looking and therefore the more normal the distribution is.\n",
    "## Normal Distribution"
   ]
  },
  {
   "cell_type": "code",
   "execution_count": 23,
   "metadata": {},
   "outputs": [
    {
     "data": {
      "image/png": "[encoded data removed]",
      "text/plain": [
       "<Figure size 432x288 with 1 Axes>"
      ]
     },
     "metadata": {
      "needs_background": "light"
     },
     "output_type": "display_data"
    },
    {
     "data": {
      "image/png": "[encoded data removed]",
      "text/plain": [
       "<Figure size 432x288 with 1 Axes>"
      ]
     },
     "metadata": {
      "needs_background": "light"
     },
     "output_type": "display_data"
    },
    {
     "data": {
      "image/png": "[encoded data removed]",
      "text/plain": [
       "<Figure size 432x288 with 1 Axes>"
      ]
     },
     "metadata": {
      "needs_background": "light"
     },
     "output_type": "display_data"
    }
   ],
   "source": [
    "# Using matplotlib.pyplot to show histograms showing output from random.uniform with varying size of array\n",
    "rand_normal = np.random.normal(loc=10,size=100)\n",
    "plt.hist(rand_normal)\n",
    "plt.title(\"100 random normal numbers\")\n",
    "plt.show()\n",
    "rand_normal = np.random.normal(loc=10,size=1000)\n",
    "plt.hist(rand_normal)\n",
    "plt.title(\"1000 random normal numbers\")\n",
    "plt.show()\n",
    "rand_normal = np.random.normal(loc=10,size=10000)\n",
    "plt.hist(rand_normal)\n",
    "plt.title(\"10000 random normal numbers\")\n",
    "plt.show()"
   ]
  },
  {
   "cell_type": "markdown",
   "metadata": {},
   "source": [
    "The above examples demonstrating picking a random choice from a list of given options, producing a uniform distribution or producing a random normal distribution are all applications that have realy world usages, where someone may want to produce a random distribution to test some model or may want a randomised effect to happen when a script is ran\n",
    "\n",
    "## Binomial Distribution\n",
    "With the binomial function from default_rng I can get a binomial distribution, where I provide 3 arguments n number of successes, p probability of success, and size the number of trials to run and array that results"
   ]
  },
  {
   "cell_type": "code",
   "execution_count": 103,
   "metadata": {},
   "outputs": [
    {
     "data": {
      "image/png": "[encoded data removed]",
      "text/plain": [
       "<Figure size 432x288 with 1 Axes>"
      ]
     },
     "metadata": {
      "needs_background": "light"
     },
     "output_type": "display_data"
    }
   ],
   "source": [
    "bin_coin_dist = rng.binomial( n=1, p=0.5, size=1000) #distribution for 1 coin flip\n",
    "plt.hist(bin_coin_dist); #show histogram of distribution"
   ]
  },
  {
   "cell_type": "markdown",
   "metadata": {},
   "source": [
    "This simple binomial distribution shows when doing a single coin flip 1000 times, you get almost 50% at 0 and 50% at 1, meaning we have 50% chance for having 0 wins or 1 win"
   ]
  },
  {
   "cell_type": "code",
   "execution_count": 104,
   "metadata": {},
   "outputs": [
    {
     "data": {
      "image/png": "[encoded data removed]",
      "text/plain": [
       "<Figure size 432x288 with 1 Axes>"
      ]
     },
     "metadata": {
      "needs_background": "light"
     },
     "output_type": "display_data"
    }
   ],
   "source": [
    "bin_coin_dist = rng.binomial( n=10, p=0.5, size=1000) #distribution for 10 coin flips\n",
    "plt.hist(bin_coin_dist); #show histogram of distribution"
   ]
  },
  {
   "cell_type": "markdown",
   "metadata": {},
   "source": [
    "In the next Binomial Distribution I test, when you do 10 coin flips 1000 times what the distribution for wins is, in this case the chance for 0 wins is very low, similarly so for 8 and we have most number of occurences for 5 wins at 250 occurences, this looks very similar to a normal distribution from earlier.\n",
    "\n",
    "Next I will show an example showing the distribution of values when rolling a dice once and three times over 1000 repeats.\n"
   ]
  },
  {
   "cell_type": "code",
   "execution_count": 106,
   "metadata": {},
   "outputs": [
    {
     "data": {
      "image/png": "[encoded data removed]",
      "text/plain": [
       "<Figure size 432x288 with 1 Axes>"
      ]
     },
     "metadata": {
      "needs_background": "light"
     },
     "output_type": "display_data"
    }
   ],
   "source": [
    "bin_dice_roll = rng.binomial( n=1, p=1/6, size=1000)\n",
    "plt.hist(bin_dice_roll);"
   ]
  },
  {
   "cell_type": "code",
   "execution_count": 110,
   "metadata": {},
   "outputs": [
    {
     "data": {
      "image/png": "[encoded data removed]",
      "text/plain": [
       "<Figure size 432x288 with 1 Axes>"
      ]
     },
     "metadata": {
      "needs_background": "light"
     },
     "output_type": "display_data"
    }
   ],
   "source": [
    "bin_dice_roll = rng.binomial( n=3, p=1/6, size=1000)\n",
    "plt.hist(bin_dice_roll);"
   ]
  },
  {
   "cell_type": "markdown",
   "metadata": {},
   "source": [
    "## Exponential Distribution"
   ]
  },
  {
   "cell_type": "code",
   "execution_count": 143,
   "metadata": {},
   "outputs": [
    {
     "data": {
      "image/png": "[encoded data removed]",
      "text/plain": [
       "<Figure size 432x288 with 1 Axes>"
      ]
     },
     "metadata": {
      "needs_background": "light"
     },
     "output_type": "display_data"
    }
   ],
   "source": [
    "exp_dist_array = rng.exponential(scale=100, size=1000)\n",
    "exp_dist_array.sort()\n",
    "plt.plot(exp_);"
   ]
  },
  {
   "cell_type": "code",
   "execution_count": 144,
   "metadata": {},
   "outputs": [
    {
     "data": {
      "text/plain": [
       "(array([501., 244., 125.,  77.,  26.,  13.,   8.,   2.,   2.,   2.]),\n",
       " array([1.22372627e-01, 6.74168986e+01, 1.34711425e+02, 2.02005951e+02,\n",
       "        2.69300477e+02, 3.36595003e+02, 4.03889529e+02, 4.71184055e+02,\n",
       "        5.38478581e+02, 6.05773107e+02, 6.73067633e+02]),\n",
       " <BarContainer object of 10 artists>)"
      ]
     },
     "execution_count": 144,
     "metadata": {},
     "output_type": "execute_result"
    },
    {
     "data": {
      "image/png": "[encoded data removed]",
      "text/plain": [
       "<Figure size 432x288 with 1 Axes>"
      ]
     },
     "metadata": {
      "needs_background": "light"
     },
     "output_type": "display_data"
    }
   ],
   "source": [
    "plt.hist(exp_dist_array)"
   ]
  },
  {
   "cell_type": "code",
   "execution_count": 132,
   "metadata": {},
   "outputs": [
    {
     "data": {
      "text/plain": [
       "504.90981519870905"
      ]
     },
     "execution_count": 132,
     "metadata": {},
     "output_type": "execute_result"
    }
   ],
   "source": [
    "max(exp_)"
   ]
  },
  {
   "cell_type": "code",
   "execution_count": 133,
   "metadata": {},
   "outputs": [
    {
     "data": {
      "text/plain": [
       "0.108333063066125"
      ]
     },
     "execution_count": 133,
     "metadata": {},
     "output_type": "execute_result"
    }
   ],
   "source": [
    "min(exp_)"
   ]
  },
  {
   "cell_type": "code",
   "execution_count": null,
   "metadata": {},
   "outputs": [],
   "source": []
  }
 ],
 "metadata": {
  "kernelspec": {
   "display_name": "Python 3",
   "language": "python",
   "name": "python3"
  },
  "language_info": {
   "codemirror_mode": {
    "name": "ipython",
    "version": 3
   },
   "file_extension": ".py",
   "mimetype": "text/x-python",
   "name": "python",
   "nbconvert_exporter": "python",
   "pygments_lexer": "ipython3",
   "version": "3.8.5"
  }
 },
 "nbformat": 4,
 "nbformat_minor": 4
}
