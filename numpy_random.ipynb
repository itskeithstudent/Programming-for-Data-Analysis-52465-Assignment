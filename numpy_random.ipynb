{
 "cells": [
  {
   "cell_type": "markdown",
   "metadata": {},
   "source": [
    "# Programming For Data Analysis Assignment\n",
    "## numpy.random package explored\n",
    "\n",
    "## Some general requirements as mentioned in videos\n",
    "Include comparison of PCG64 (new version of seed random generator - https://numpy.org/doc/stable/reference/random/generator.html?highlight=pcg64) vs. Mersenne Twister (https://docs.scipy.org/doc/numpy-1.15.1/reference/generated/numpy.random.RandomState.html#numpy.random.RandomState)\n"
   ]
  },
  {
   "cell_type": "code",
   "execution_count": 6,
   "metadata": {},
   "outputs": [],
   "source": [
    "#Playing around with numpy for the first notebook commit\n",
    "import numpy as np\n",
    "import matplotlib.pyplot as plt"
   ]
  },
  {
   "cell_type": "code",
   "execution_count": 53,
   "metadata": {},
   "outputs": [
    {
     "name": "stdout",
     "output_type": "stream",
     "text": [
      "0.08339001568639315\n"
     ]
    }
   ],
   "source": [
    "random_num = np.random.rand() #simple random number example generated from numpy\n",
    "print(random_num)"
   ]
  },
  {
   "cell_type": "code",
   "execution_count": 55,
   "metadata": {},
   "outputs": [
    {
     "name": "stdout",
     "output_type": "stream",
     "text": [
      "[0.32493493 0.96403871 0.23605561 0.17869582 0.29184388 0.33154093\n",
      " 0.78279909 0.07752726 0.0837764  0.70129912]\n"
     ]
    }
   ],
   "source": [
    "random_array = np.random.rand(10)\n",
    "print(random_array)"
   ]
  },
  {
   "cell_type": "code",
   "execution_count": 62,
   "metadata": {
    "scrolled": true
   },
   "outputs": [],
   "source": [
    "normal_dist_size = 1000 #creating a array of normal random numbers to view with a histogram\n",
    "random_norm = np.random.normal(size=normal_dist_size)"
   ]
  },
  {
   "cell_type": "code",
   "execution_count": 67,
   "metadata": {},
   "outputs": [
    {
     "data": {
      "image/png": "[encoded data removed]",
      "text/plain": [
       "<Figure size 432x288 with 1 Axes>"
      ]
     },
     "metadata": {
      "needs_background": "light"
     },
     "output_type": "display_data"
    }
   ],
   "source": [
    "#here comparing normal distributions with varying number of bins, first using default argument, second using 'auto' for bin argument\n",
    "plt.hist(random_norm)\n",
    "plt.hist(random_norm, bins='auto')\n",
    "plt.show()"
   ]
  },
  {
   "cell_type": "markdown",
   "metadata": {},
   "source": [
    "Trying formula for picking bin size from Stack Overflow post\n",
    "https://stackoverflow.com/questions/33458566/how-to-choose-bins-in-matplotlib-histogram\n",
    "\n",
    "Formula\n",
    "\n",
    "R(n^(1/3))/(3.49σ)\n",
    "\n",
    "where\n",
    "\n",
    "    R is the range of data (in your case R = 3-(-3)= 6),\n",
    "\n",
    "    n is the number of samples,\n",
    "\n",
    "    σ is your standard deviation.\n"
   ]
  },
  {
   "cell_type": "code",
   "execution_count": 71,
   "metadata": {},
   "outputs": [],
   "source": [
    "range_norm = max(random_norm)-min(random_norm)\n",
    "n = normal_dist_size\n",
    "stdev = np.std(random_norm)\n",
    "\n",
    "bin_formula = range_norm*(n**(1/3))/(3.49*stdev)"
   ]
  },
  {
   "cell_type": "code",
   "execution_count": 72,
   "metadata": {
    "slideshow": {
     "slide_type": "skip"
    }
   },
   "outputs": [
    {
     "data": {
      "text/plain": [
       "(array([  3.,   5.,   3.,  11.,  24.,  30.,  49.,  59.,  89.,  87., 105.,\n",
       "        120.,  98.,  76.,  66.,  62.,  41.,  38.,  18.,   8.,   5.,   2.,\n",
       "          0.,   1.]),\n",
       " array([-2.98494117, -2.71836627, -2.45179138, -2.18521648, -1.91864158,\n",
       "        -1.65206668, -1.38549178, -1.11891689, -0.85234199, -0.58576709,\n",
       "        -0.31919219, -0.05261729,  0.2139576 ,  0.4805325 ,  0.7471074 ,\n",
       "         1.0136823 ,  1.2802572 ,  1.5468321 ,  1.81340699,  2.07998189,\n",
       "         2.34655679,  2.61313169,  2.87970659,  3.14628148,  3.41285638]),\n",
       " <BarContainer object of 24 artists>)"
      ]
     },
     "execution_count": 72,
     "metadata": {},
     "output_type": "execute_result"
    },
    {
     "data": {
      "image/png": "[encoded data removed]",
      "text/plain": [
       "<Figure size 432x288 with 1 Axes>"
      ]
     },
     "metadata": {
      "needs_background": "light"
     },
     "output_type": "display_data"
    }
   ],
   "source": [
    "plt.hist(random_norm)\n",
    "\n",
    "plt.hist(random_norm, bins=int(bin_formula))\n",
    "plt.hist(random_norm, bins='auto')\n",
    "\n"
   ]
  },
  {
   "cell_type": "code",
   "execution_count": null,
   "metadata": {},
   "outputs": [],
   "source": []
  },
  {
   "cell_type": "code",
   "execution_count": null,
   "metadata": {},
   "outputs": [],
   "source": []
  },
  {
   "cell_type": "code",
   "execution_count": null,
   "metadata": {},
   "outputs": [],
   "source": []
  },
  {
   "cell_type": "code",
   "execution_count": null,
   "metadata": {},
   "outputs": [],
   "source": []
  }
 ],
 "metadata": {
  "kernelspec": {
   "display_name": "Python 3",
   "language": "python",
   "name": "python3"
  },
  "language_info": {
   "codemirror_mode": {
    "name": "ipython",
    "version": 3
   },
   "file_extension": ".py",
   "mimetype": "text/x-python",
   "name": "python",
   "nbconvert_exporter": "python",
   "pygments_lexer": "ipython3",
   "version": "3.8.5"
  }
 },
 "nbformat": 4,
 "nbformat_minor": 4
}
